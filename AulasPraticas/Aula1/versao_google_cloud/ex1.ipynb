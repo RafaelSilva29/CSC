{
  "nbformat": 4,
  "nbformat_minor": 0,
  "metadata": {
    "colab": {
      "name": "ex1.ipynb",
      "provenance": [],
      "collapsed_sections": []
    },
    "kernelspec": {
      "name": "python3",
      "display_name": "Python 3"
    }
  },
  "cells": [
    {
      "cell_type": "code",
      "metadata": {
        "id": "eOmGrO-oyqBm",
        "colab_type": "code",
        "colab": {}
      },
      "source": [
        "# Import file python to run\n",
        "run ex1.py"
      ],
      "execution_count": 0,
      "outputs": []
    },
    {
      "cell_type": "code",
      "metadata": {
        "id": "e87QRpLVepXG",
        "colab_type": "code",
        "colab": {}
      },
      "source": [
        "\n",
        "file_url = 'https://drive.google.com/u/0/uc?id=1W4WnQbN3Xlxt-CNhRi16nfoKFegGnEJG&export=download'\n",
        "\n",
        "# Data contain all data readed\n",
        "data = load_data(file_url)\n",
        "\n",
        "# Print dataset info\n",
        "print(data.info())\n",
        "print('---- All data -------')"
      ],
      "execution_count": 0,
      "outputs": []
    },
    {
      "cell_type": "code",
      "metadata": {
        "id": "E520f_SjymAO",
        "colab_type": "code",
        "colab": {}
      },
      "source": [
        "# Drop unwanted columns\n",
        "data.drop(['hour','minute','tailnum'], 1, inplace=True)\n",
        "\n",
        "# Print dataset info\n",
        "print(data.info())\n",
        "print('---- Dropped data -------')\n",
        "\n",
        "# Infer objects type\n",
        "data.infer_objects()\n",
        "\n",
        "# Check and replace missing with -99 (masking)\n",
        "print(data.isnull().sum()) \n",
        "print('---- Count num feature -------')\n",
        "data.fillna(-99, inplace=True)\n",
        "\n",
        "# Frequency distribution of categories within a feature 'dest'\n",
        "print(data['dest'].unique())\n",
        "print('Unique count(dest): %d' %data['dest'].value_counts().count()) \n",
        "print('---- Valores unicos de dest -------')\n",
        "print(data['dest'].value_counts())\n",
        "print('---- Count num feature dest -------')"
      ],
      "execution_count": 0,
      "outputs": []
    },
    {
      "cell_type": "code",
      "metadata": {
        "id": "jeAJTc7YzADj",
        "colab_type": "code",
        "colab": {
          "base_uri": "https://localhost:8080/",
          "height": 102
        },
        "outputId": "7ebe44ab-d1af-4453-b05d-28a9efd2c5e3"
      },
      "source": [
        "# Endoding data\n",
        "data_labelled, label_dictionary = label_encoding(data)\n",
        "print(data_labelled['dest'].unique())\n",
        "print('Unique count after Label Encoding: %d' %data_labelled['dest'].value_counts().count())\n",
        "print('--- Valores codificados -----')"
      ],
      "execution_count": 14,
      "outputs": [
        {
          "output_type": "stream",
          "text": [
            "[ 0  1  2  3  4  5  6  7  8  9 10 11 12 13 14 15 16 17 18 19 20 21 22 23\n",
            " 24 25 26 27 28 29 30 31 32 33 34 35 36 37 38 39 40 41 42 43 44 45 46 47\n",
            " 48 49 50 51 52 53 54 55 56 57 58 59 60 61 62 63 64 65 66 67 68 69]\n",
            "Unique count after Label Encoding: 70\n",
            "--- Valores codificados -----\n"
          ],
          "name": "stdout"
        }
      ]
    },
    {
      "cell_type": "code",
      "metadata": {
        "id": "fWJ2uodFzEko",
        "colab_type": "code",
        "colab": {
          "base_uri": "https://localhost:8080/",
          "height": 153
        },
        "outputId": "de8f0636-898f-4bb6-91c3-5fce7afc43fe"
      },
      "source": [
        "# Decodind data\n",
        "data_labelled_decoded = label_decoding(data_labelled, label_dictionary) \n",
        "print(data_labelled_decoded['dest'].unique())\n",
        "print('Unique count after dec.: %d' %data_labelled_decoded['dest'].value_counts().count()) \n",
        "print('--- Valores descodificados -----')"
      ],
      "execution_count": 15,
      "outputs": [
        {
          "output_type": "stream",
          "text": [
            "['ANC' 'CLT' 'IAH' 'DTW' 'ORD' 'DEN' 'EWR' 'PHX' 'SLC' 'DFW' 'SJC' 'LAX'\n",
            " 'OAK' 'SFO' 'SNA' 'SAN' 'ATL' 'BUR' 'MDW' 'IAD' 'PSP' 'MSP' 'HNL' 'JFK'\n",
            " 'LAS' 'LGB' 'ONT' 'KOA' 'MKE' 'KTN' 'DCA' 'ABQ' 'MCO' 'OGG' 'MCI' 'PHL'\n",
            " 'LIH' 'FLL' 'BOS' 'SMF' 'OMA' 'TUS' 'SBA' 'JNU' 'AUS' 'FAT' 'STL' 'RDM'\n",
            " 'EUG' 'SAT' 'SEA' 'GEG' 'RNO' 'FAI' 'HDN' 'PDX' 'COS' 'MIA' 'LMT' 'CLE'\n",
            " 'CVG' 'JAC' 'BWI' 'TPA' 'MSY' 'BNA' 'BLI' 'BOI' 'HOU' 'SIT']\n",
            "Unique count after dec.: 70\n",
            "--- Valores descodificados -----\n"
          ],
          "name": "stdout"
        }
      ]
    },
    {
      "cell_type": "code",
      "metadata": {
        "id": "71CUpmBazITf",
        "colab_type": "code",
        "colab": {
          "base_uri": "https://localhost:8080/",
          "height": 340
        },
        "outputId": "19ae84ca-a701-4bf5-8490-e430836d4033"
      },
      "source": [
        "# Hot encoding\n",
        "print(data.columns.values)\n",
        "print('--- Valores originais ---')\n",
        "data_pandas_ohe = hot_ecoding(data)\n",
        "print(data_pandas_ohe.columns.values)\n",
        "print('--- Valores depois de one-hot encoding ---')"
      ],
      "execution_count": 16,
      "outputs": [
        {
          "output_type": "stream",
          "text": [
            "['year' 'month' 'day' 'dep_time' 'dep_delay' 'arr_time' 'arr_delay'\n",
            " 'carrier' 'flight' 'origin' 'dest' 'air_time' 'distance']\n",
            "--- Valores originais ---\n",
            "['year' 'month' 'day' 'dep_time' 'dep_delay' 'arr_time' 'arr_delay'\n",
            " 'flight' 'air_time' 'distance' 'carrier_AS' 'carrier_B6' 'carrier_DL'\n",
            " 'carrier_F9' 'carrier_HA' 'carrier_OO' 'carrier_UA' 'carrier_US'\n",
            " 'carrier_VX' 'carrier_WN' 'origin_SEA' 'dest_ANC' 'dest_ATL' 'dest_AUS'\n",
            " 'dest_BLI' 'dest_BNA' 'dest_BOI' 'dest_BOS' 'dest_BUR' 'dest_BWI'\n",
            " 'dest_CLE' 'dest_CLT' 'dest_COS' 'dest_CVG' 'dest_DCA' 'dest_DEN'\n",
            " 'dest_DFW' 'dest_DTW' 'dest_EUG' 'dest_EWR' 'dest_FAI' 'dest_FAT'\n",
            " 'dest_FLL' 'dest_GEG' 'dest_HDN' 'dest_HNL' 'dest_HOU' 'dest_IAD'\n",
            " 'dest_IAH' 'dest_JAC' 'dest_JFK' 'dest_JNU' 'dest_KOA' 'dest_KTN'\n",
            " 'dest_LAS' 'dest_LAX' 'dest_LGB' 'dest_LIH' 'dest_LMT' 'dest_MCI'\n",
            " 'dest_MCO' 'dest_MDW' 'dest_MIA' 'dest_MKE' 'dest_MSP' 'dest_MSY'\n",
            " 'dest_OAK' 'dest_OGG' 'dest_OMA' 'dest_ONT' 'dest_ORD' 'dest_PDX'\n",
            " 'dest_PHL' 'dest_PHX' 'dest_PSP' 'dest_RDM' 'dest_RNO' 'dest_SAN'\n",
            " 'dest_SAT' 'dest_SBA' 'dest_SEA' 'dest_SFO' 'dest_SIT' 'dest_SJC'\n",
            " 'dest_SLC' 'dest_SMF' 'dest_SNA' 'dest_STL' 'dest_TPA' 'dest_TUS']\n",
            "--- Valores depois de one-hot encoding ---\n"
          ],
          "name": "stdout"
        }
      ]
    }
  ]
}